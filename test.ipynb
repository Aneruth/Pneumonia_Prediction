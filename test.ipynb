{
 "cells": [
  {
   "cell_type": "code",
   "execution_count": 13,
   "metadata": {},
   "outputs": [],
   "source": [
    "import os\n",
    "import numpy as np\n",
    "import cv2\n",
    "from skimage.transform import resize"
   ]
  },
  {
   "cell_type": "code",
   "execution_count": 21,
   "metadata": {},
   "outputs": [],
   "source": [
    "data_dir = './data/'\n",
    "data_dir_list = os.listdir(data_dir)[1:]"
   ]
  },
  {
   "cell_type": "code",
   "execution_count": 51,
   "metadata": {},
   "outputs": [],
   "source": [
    "# read the image\n",
    "def readImg(file_path):\n",
    "    \"\"\"A method to read the image and preprocess it to 255 pixels\n",
    "\n",
    "    Args:\n",
    "        file_path (String): String path to fetch file\n",
    "\n",
    "    Returns:\n",
    "        ndarray: A numpy array with 3 channels\n",
    "    \"\"\"\n",
    "    img = cv2.imread(file_path)\n",
    "    resized_img = resize(img, (255, 255), anti_aliasing=True)\n",
    "    return resized_img"
   ]
  },
  {
   "cell_type": "markdown",
   "metadata": {},
   "source": [
    "### Convert the image to 255 pixels"
   ]
  },
  {
   "cell_type": "code",
   "execution_count": 52,
   "metadata": {},
   "outputs": [
    {
     "data": {
      "text/plain": [
       "(255, 255, 3)"
      ]
     },
     "execution_count": 52,
     "metadata": {},
     "output_type": "execute_result"
    }
   ],
   "source": [
    "readImg('data/test/NORMAL/IM-0001-0001.jpeg').shape"
   ]
  },
  {
   "cell_type": "code",
   "execution_count": 53,
   "metadata": {},
   "outputs": [],
   "source": [
    "for folder in data_dir_list:\n",
    "    # print(lab,)\n",
    "    img_dir_path = os.path.join(data_dir,folder)\n",
    "    img_dir_list = os.listdir(img_dir_path)\n",
    "    for img_fldr in img_dir_list: # fetch the labels\n",
    "        if img_fldr != '.DS_Store':\n",
    "            # print(img_fldr)\n",
    "            path = os.path.join(img_dir_path,img_fldr)\n",
    "            # print(folder,img_fldr,len(os.listdir(path)))\n",
    "            # print(os.listdir(path))\n",
    "            for file in os.listdir(path):\n",
    "                file_path = os.path.join(path,file)"
   ]
  },
  {
   "cell_type": "code",
   "execution_count": null,
   "metadata": {},
   "outputs": [],
   "source": []
  }
 ],
 "metadata": {
  "kernelspec": {
   "display_name": "Python 3.8.5 ('.venv': venv)",
   "language": "python",
   "name": "python3"
  },
  "language_info": {
   "codemirror_mode": {
    "name": "ipython",
    "version": 3
   },
   "file_extension": ".py",
   "mimetype": "text/x-python",
   "name": "python",
   "nbconvert_exporter": "python",
   "pygments_lexer": "ipython3",
   "version": "3.8.5"
  },
  "orig_nbformat": 4,
  "vscode": {
   "interpreter": {
    "hash": "1ccf302b05b8f76731f908c2479cddd3852a3431df0795d9628ed5e2151dfce3"
   }
  }
 },
 "nbformat": 4,
 "nbformat_minor": 2
}
